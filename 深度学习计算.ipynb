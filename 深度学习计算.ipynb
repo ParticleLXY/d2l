{
 "cells": [
  {
   "cell_type": "markdown",
   "id": "721a21ff-8f57-4db0-a27f-44a397e4f372",
   "metadata": {},
   "source": [
    "# 1. 层和块"
   ]
  },
  {
   "cell_type": "code",
   "execution_count": 1,
   "id": "a38c9220-d931-45ca-974f-01ff3087e498",
   "metadata": {},
   "outputs": [],
   "source": [
    "import tensorflow as tf"
   ]
  },
  {
   "cell_type": "code",
   "execution_count": 3,
   "id": "df80770c-8da6-4d83-a5cf-69c55caa0576",
   "metadata": {},
   "outputs": [
    {
     "data": {
      "text/plain": [
       "<tf.Tensor: shape=(2, 10), dtype=float32, numpy=\n",
       "array([[-0.39291954,  0.2525106 ,  0.02978083,  0.13245568, -0.3161534 ,\n",
       "         0.25431594,  0.07534377, -0.06229079, -0.05107045, -0.3263515 ],\n",
       "       [-0.3283259 ,  0.14908814, -0.18172464,  0.09874249, -0.26747587,\n",
       "         0.09416143, -0.04878247,  0.10114376, -0.05776639, -0.43654343]],\n",
       "      dtype=float32)>"
      ]
     },
     "execution_count": 3,
     "metadata": {},
     "output_type": "execute_result"
    }
   ],
   "source": [
    "net = tf.keras.models.Sequential([\n",
    "    tf.keras.layers.Dense(256,activation='relu'),\n",
    "    tf.keras.layers.Dense(10),\n",
    "])\n",
    "X = tf.random.uniform((2,20))\n",
    "net(X)"
   ]
  },
  {
   "cell_type": "markdown",
   "id": "0471f3c7-465d-4b56-b45f-5bb4fcfd9f73",
   "metadata": {},
   "source": [
    "## 1.1 自定义块"
   ]
  },
  {
   "cell_type": "code",
   "execution_count": 4,
   "id": "c98404d1-1b24-4493-ae36-a06b10b4dfb1",
   "metadata": {},
   "outputs": [],
   "source": [
    "class MLP(tf.keras.Model):\n",
    "    def __init__(self):\n",
    "        super().__init__()\n",
    "        self.hidden = tf.keras.layers.Dense(units=256,activation='relu')\n",
    "        self.out = tf.keras.layers.Dense(units=10)\n",
    "    def call(self,X):\n",
    "        return self.out(self.hidden((X)))"
   ]
  },
  {
   "cell_type": "code",
   "execution_count": 5,
   "id": "0b8a7775-06e7-4841-b932-99eb0811fd3e",
   "metadata": {},
   "outputs": [],
   "source": [
    "net = MLP()"
   ]
  },
  {
   "cell_type": "code",
   "execution_count": 6,
   "id": "954593ae-59ec-4411-a917-37f50df999b6",
   "metadata": {},
   "outputs": [
    {
     "data": {
      "text/plain": [
       "<tf.Tensor: shape=(2, 10), dtype=float32, numpy=\n",
       "array([[-0.26748484,  0.07539991,  0.21809646,  0.08414759,  0.02512698,\n",
       "         0.3535815 ,  0.26445916,  0.16719699, -0.02249558, -0.1051607 ],\n",
       "       [-0.21155119,  0.23459646,  0.20549837,  0.16302368, -0.01029655,\n",
       "         0.10908729,  0.19798984,  0.09204209,  0.13118033,  0.06843205]],\n",
       "      dtype=float32)>"
      ]
     },
     "execution_count": 6,
     "metadata": {},
     "output_type": "execute_result"
    }
   ],
   "source": [
    "net(X)"
   ]
  },
  {
   "cell_type": "markdown",
   "id": "b9dee719-a216-4209-b8bb-1c8f19fc96ff",
   "metadata": {},
   "source": [
    "## 1.2 Sequential"
   ]
  },
  {
   "cell_type": "markdown",
   "id": "c7df2532-2902-4703-a304-715a8e47e2d5",
   "metadata": {},
   "source": [
    "为了构建Sequential，我们只需要定义两个关键函数：\n",
    "1. 一种将块逐个追加到列表中的函数\n",
    "2. 一种前向传播函数，用于将输入按追加块的顺序传递给块组成的链条"
   ]
  },
  {
   "cell_type": "code",
   "execution_count": 9,
   "id": "01669aca-616b-4237-9541-a666a1045f49",
   "metadata": {},
   "outputs": [],
   "source": [
    "class MySequential(tf.keras.Model):\n",
    "    def __init__(self,*args):\n",
    "        super().__init__()\n",
    "        self.modules = []\n",
    "        for block in args:\n",
    "            self.modules.append(block)\n",
    "            \n",
    "    def call(self,X):\n",
    "        for module in self.modules:\n",
    "            X = module(X)\n",
    "        return X"
   ]
  },
  {
   "cell_type": "code",
   "execution_count": 10,
   "id": "19f999e2-4daa-4785-b9cd-d84f851fb14e",
   "metadata": {},
   "outputs": [
    {
     "data": {
      "text/plain": [
       "<tf.Tensor: shape=(2, 10), dtype=float32, numpy=\n",
       "array([[ 0.22040497,  0.09712207, -0.49343053, -0.26114163, -0.09403025,\n",
       "         0.18024832, -0.2003344 , -0.04766444, -0.09108949,  0.16741958],\n",
       "       [-0.0022357 , -0.00905097, -0.41821143, -0.16958472,  0.13493344,\n",
       "         0.07799095, -0.12572452, -0.04986995, -0.10445809, -0.06300616]],\n",
       "      dtype=float32)>"
      ]
     },
     "execution_count": 10,
     "metadata": {},
     "output_type": "execute_result"
    }
   ],
   "source": [
    "net = MySequential(\n",
    "    tf.keras.layers.Dense(units=256, activation=tf.nn.relu),\n",
    "    tf.keras.layers.Dense(10))\n",
    "net(X)"
   ]
  },
  {
   "cell_type": "markdown",
   "id": "9cd4efae-16aa-46d8-9b28-b4be8c668988",
   "metadata": {},
   "source": [
    "## 1.3 在前向传播函数中执行代码"
   ]
  },
  {
   "cell_type": "code",
   "execution_count": 7,
   "id": "74102964-e847-48c3-b320-feed5939587c",
   "metadata": {},
   "outputs": [],
   "source": [
    "class FixedHiddenMLP(tf.keras.Model):\n",
    "    def __init__(self):\n",
    "        super().__init__()\n",
    "        self.flatten = tf.keras.layers.Flatten()\n",
    "        self.rand_weight = tf.constant(tf.random.uniform((20,20)))\n",
    "        self.dense = tf.keras.layers.Dense(20,activation='relu')\n",
    "        \n",
    "    def call(self,inputs):\n",
    "        X = self.flatten(inputs)\n",
    "        X = tf.nn.relu(tf.matmul(X,self.rand_weight)+1)\n",
    "        X = self.Dense(X)\n",
    "        while tf.reduce_sum(tf.math.abs(X)) > 1:\n",
    "            X /= 2\n",
    "        return tf.reduce_sum(X)"
   ]
  },
  {
   "cell_type": "markdown",
   "id": "d2710e83-3192-4990-be36-85ea01d548e2",
   "metadata": {},
   "source": [
    "# 2. 参数管理"
   ]
  },
  {
   "cell_type": "code",
   "execution_count": 1,
   "id": "ea44a219-7ed4-4273-806a-2b1b651887c8",
   "metadata": {},
   "outputs": [
    {
     "name": "stderr",
     "output_type": "stream",
     "text": [
      "2022-01-07 12:55:55.528021: I tensorflow/stream_executor/cuda/cuda_gpu_executor.cc:939] successful NUMA node read from SysFS had negative value (-1), but there must be at least one NUMA node, so returning NUMA node zero\n",
      "2022-01-07 12:55:55.592607: I tensorflow/stream_executor/cuda/cuda_gpu_executor.cc:939] successful NUMA node read from SysFS had negative value (-1), but there must be at least one NUMA node, so returning NUMA node zero\n",
      "2022-01-07 12:55:55.592845: I tensorflow/stream_executor/cuda/cuda_gpu_executor.cc:939] successful NUMA node read from SysFS had negative value (-1), but there must be at least one NUMA node, so returning NUMA node zero\n",
      "2022-01-07 12:55:55.593765: I tensorflow/core/platform/cpu_feature_guard.cc:151] This TensorFlow binary is optimized with oneAPI Deep Neural Network Library (oneDNN) to use the following CPU instructions in performance-critical operations:  AVX2 FMA\n",
      "To enable them in other operations, rebuild TensorFlow with the appropriate compiler flags.\n",
      "2022-01-07 12:55:55.595102: I tensorflow/stream_executor/cuda/cuda_gpu_executor.cc:939] successful NUMA node read from SysFS had negative value (-1), but there must be at least one NUMA node, so returning NUMA node zero\n",
      "2022-01-07 12:55:55.595311: I tensorflow/stream_executor/cuda/cuda_gpu_executor.cc:939] successful NUMA node read from SysFS had negative value (-1), but there must be at least one NUMA node, so returning NUMA node zero\n",
      "2022-01-07 12:55:55.595694: I tensorflow/stream_executor/cuda/cuda_gpu_executor.cc:939] successful NUMA node read from SysFS had negative value (-1), but there must be at least one NUMA node, so returning NUMA node zero\n",
      "2022-01-07 12:55:56.071026: I tensorflow/stream_executor/cuda/cuda_gpu_executor.cc:939] successful NUMA node read from SysFS had negative value (-1), but there must be at least one NUMA node, so returning NUMA node zero\n",
      "2022-01-07 12:55:56.071190: I tensorflow/stream_executor/cuda/cuda_gpu_executor.cc:939] successful NUMA node read from SysFS had negative value (-1), but there must be at least one NUMA node, so returning NUMA node zero\n",
      "2022-01-07 12:55:56.071310: I tensorflow/stream_executor/cuda/cuda_gpu_executor.cc:939] successful NUMA node read from SysFS had negative value (-1), but there must be at least one NUMA node, so returning NUMA node zero\n",
      "2022-01-07 12:55:56.071422: I tensorflow/core/common_runtime/gpu/gpu_device.cc:1525] Created device /job:localhost/replica:0/task:0/device:GPU:0 with 5801 MB memory:  -> device: 0, name: NVIDIA GeForce RTX 3070, pci bus id: 0000:2d:00.0, compute capability: 8.6\n",
      "2022-01-07 12:55:56.846730: I tensorflow/stream_executor/cuda/cuda_blas.cc:1774] TensorFloat-32 will be used for the matrix multiplication. This will only be logged once.\n"
     ]
    },
    {
     "data": {
      "text/plain": [
       "<tf.Tensor: shape=(2, 1), dtype=float32, numpy=\n",
       "array([[-0.5565221],\n",
       "       [-0.5166136]], dtype=float32)>"
      ]
     },
     "execution_count": 1,
     "metadata": {},
     "output_type": "execute_result"
    }
   ],
   "source": [
    "import tensorflow as tf\n",
    "\n",
    "net = tf.keras.models.Sequential([\n",
    "    tf.keras.layers.Flatten(),\n",
    "    tf.keras.layers.Dense(4, activation=tf.nn.relu),\n",
    "    tf.keras.layers.Dense(1),\n",
    "])\n",
    "\n",
    "X = tf.random.uniform((2, 4))\n",
    "net(X)"
   ]
  },
  {
   "cell_type": "markdown",
   "id": "78624259-4171-48bd-a696-b47f93098beb",
   "metadata": {},
   "source": [
    "## 2.1 参数访问"
   ]
  },
  {
   "cell_type": "markdown",
   "id": "e06017be-6b21-4c28-8581-eccab347d62e",
   "metadata": {},
   "source": [
    "当通过Sequential类定义模型时， 我们可以通过索引来访问模型的任意层。"
   ]
  },
  {
   "cell_type": "code",
   "execution_count": 9,
   "id": "9fcee046-9c83-4b8b-a711-7602048d63cd",
   "metadata": {},
   "outputs": [
    {
     "name": "stdout",
     "output_type": "stream",
     "text": [
      "[<tf.Variable 'dense_5/kernel:0' shape=(4, 1) dtype=float32, numpy=\n",
      "array([[0.06600761],\n",
      "       [0.4388789 ],\n",
      "       [0.1059742 ],\n",
      "       [0.1361829 ]], dtype=float32)>, <tf.Variable 'dense_5/bias:0' shape=(1,) dtype=float32, numpy=array([0.], dtype=float32)>]\n"
     ]
    }
   ],
   "source": [
    "print(net.layers[2].weights)"
   ]
  },
  {
   "cell_type": "code",
   "execution_count": 10,
   "id": "a368b334-0faf-4d67-9f05-8b3e385e76fb",
   "metadata": {},
   "outputs": [
    {
     "name": "stdout",
     "output_type": "stream",
     "text": [
      "<class 'tensorflow.python.ops.resource_variable_ops.ResourceVariable'>\n"
     ]
    }
   ],
   "source": [
    "print(type(net.layers[2].weights[1]))"
   ]
  },
  {
   "cell_type": "code",
   "execution_count": 11,
   "id": "951f66a0-8c7f-494f-8240-9a1e73122153",
   "metadata": {},
   "outputs": [
    {
     "name": "stdout",
     "output_type": "stream",
     "text": [
      "<tf.Variable 'dense_5/bias:0' shape=(1,) dtype=float32, numpy=array([0.], dtype=float32)>\n"
     ]
    }
   ],
   "source": [
    "print(net.layers[2].weights[1])"
   ]
  },
  {
   "cell_type": "code",
   "execution_count": 12,
   "id": "19e66d1b-9c5d-4550-ae6b-f10b8c3a0553",
   "metadata": {},
   "outputs": [
    {
     "name": "stdout",
     "output_type": "stream",
     "text": [
      "tf.Tensor([0.], shape=(1,), dtype=float32)\n"
     ]
    }
   ],
   "source": [
    "print(tf.convert_to_tensor(net.layers[2].weights[1]))"
   ]
  },
  {
   "cell_type": "code",
   "execution_count": 13,
   "id": "63d5b636-7378-4a0a-9610-b330517051cd",
   "metadata": {},
   "outputs": [
    {
     "name": "stdout",
     "output_type": "stream",
     "text": [
      "[<tf.Variable 'dense_4/kernel:0' shape=(4, 4) dtype=float32, numpy=\n",
      "array([[-0.10635978, -0.70920706,  0.31924087, -0.34567642],\n",
      "       [ 0.8032555 ,  0.06991482,  0.654339  ,  0.19643372],\n",
      "       [-0.09552348, -0.43398106, -0.18385684, -0.71140313],\n",
      "       [ 0.574472  ,  0.210401  , -0.35696286,  0.50948626]],\n",
      "      dtype=float32)>, <tf.Variable 'dense_4/bias:0' shape=(4,) dtype=float32, numpy=array([0., 0., 0., 0.], dtype=float32)>]\n"
     ]
    }
   ],
   "source": [
    "print(net.layers[1].weights)"
   ]
  },
  {
   "cell_type": "code",
   "execution_count": 14,
   "id": "1d51f5ac-9f89-402c-bf1c-367bc60c0b31",
   "metadata": {},
   "outputs": [
    {
     "name": "stdout",
     "output_type": "stream",
     "text": [
      "[array([[-0.10635978, -0.70920706,  0.31924087, -0.34567642],\n",
      "       [ 0.8032555 ,  0.06991482,  0.654339  ,  0.19643372],\n",
      "       [-0.09552348, -0.43398106, -0.18385684, -0.71140313],\n",
      "       [ 0.574472  ,  0.210401  , -0.35696286,  0.50948626]],\n",
      "      dtype=float32), array([0., 0., 0., 0.], dtype=float32), array([[0.06600761],\n",
      "       [0.4388789 ],\n",
      "       [0.1059742 ],\n",
      "       [0.1361829 ]], dtype=float32), array([0.], dtype=float32)]\n"
     ]
    }
   ],
   "source": [
    "print(net.get_weights())"
   ]
  },
  {
   "cell_type": "code",
   "execution_count": 15,
   "id": "b22cc9f0-14cf-4262-9ef9-4f705344042d",
   "metadata": {},
   "outputs": [
    {
     "data": {
      "text/plain": [
       "array([0., 0., 0., 0.], dtype=float32)"
      ]
     },
     "execution_count": 15,
     "metadata": {},
     "output_type": "execute_result"
    }
   ],
   "source": [
    "net.get_weights()[1]"
   ]
  },
  {
   "cell_type": "code",
   "execution_count": 16,
   "id": "d288f6df-f4b2-488f-a098-f95c4fd996c6",
   "metadata": {},
   "outputs": [
    {
     "data": {
      "text/plain": [
       "<tf.Tensor: shape=(2, 1), dtype=float32, numpy=\n",
       "array([[0.29809207],\n",
       "       [0.44140223]], dtype=float32)>"
      ]
     },
     "execution_count": 16,
     "metadata": {},
     "output_type": "execute_result"
    }
   ],
   "source": [
    "def block1(name):\n",
    "    return tf.keras.Sequential([\n",
    "        tf.keras.layers.Flatten(),\n",
    "        tf.keras.layers.Dense(4, activation=tf.nn.relu)],\n",
    "        name=name)\n",
    "\n",
    "def block2():\n",
    "    net = tf.keras.Sequential()\n",
    "    for i in range(4):\n",
    "        # 在这里嵌套\n",
    "        net.add(block1(name=f'block-{i}'))\n",
    "    return net\n",
    "\n",
    "rgnet = tf.keras.Sequential()\n",
    "rgnet.add(block2())\n",
    "rgnet.add(tf.keras.layers.Dense(1))\n",
    "rgnet(X)"
   ]
  },
  {
   "cell_type": "code",
   "execution_count": 17,
   "id": "c41ca9f3-1534-4001-aac3-83b12a664b3f",
   "metadata": {},
   "outputs": [
    {
     "name": "stdout",
     "output_type": "stream",
     "text": [
      "Model: \"sequential_3\"\n",
      "_________________________________________________________________\n",
      " Layer (type)                Output Shape              Param #   \n",
      "=================================================================\n",
      " sequential_4 (Sequential)   (2, 4)                    80        \n",
      "                                                                 \n",
      " dense_10 (Dense)            (2, 1)                    5         \n",
      "                                                                 \n",
      "=================================================================\n",
      "Total params: 85\n",
      "Trainable params: 85\n",
      "Non-trainable params: 0\n",
      "_________________________________________________________________\n",
      "None\n"
     ]
    }
   ],
   "source": [
    "print(rgnet.summary())"
   ]
  },
  {
   "cell_type": "code",
   "execution_count": 18,
   "id": "3707321a-ac3e-41b3-96e5-825dea8f8ca0",
   "metadata": {},
   "outputs": [
    {
     "data": {
      "text/plain": [
       "<tf.Variable 'dense_7/bias:0' shape=(4,) dtype=float32, numpy=array([0., 0., 0., 0.], dtype=float32)>"
      ]
     },
     "execution_count": 18,
     "metadata": {},
     "output_type": "execute_result"
    }
   ],
   "source": [
    "rgnet.layers[0].layers[1].layers[1].weights[1]"
   ]
  },
  {
   "cell_type": "markdown",
   "id": "6cc84879-b09b-4f49-a5a4-b36ff1be91e7",
   "metadata": {},
   "source": [
    "## 2.2 参数初始化"
   ]
  },
  {
   "cell_type": "code",
   "execution_count": 21,
   "id": "23d596c4-3f36-4dff-950b-059d7891b7bb",
   "metadata": {},
   "outputs": [],
   "source": [
    "net = tf.keras.models.Sequential([\n",
    "    tf.keras.layers.Flatten(),\n",
    "    tf.keras.layers.Dense(\n",
    "        4,activation='relu',\n",
    "        kernel_initializer=tf.random_normal_initializer(mean=0,stddev=0.01),\n",
    "        bias_initializer=tf.zeros_initializer()),\n",
    "    tf.keras.layers.Dense(1)])"
   ]
  },
  {
   "cell_type": "code",
   "execution_count": 22,
   "id": "45b47427-4307-4db1-9785-e23ee231ff16",
   "metadata": {},
   "outputs": [
    {
     "data": {
      "text/plain": [
       "<tf.Tensor: shape=(2, 1), dtype=float32, numpy=\n",
       "array([[0.00842498],\n",
       "       [0.00336687]], dtype=float32)>"
      ]
     },
     "execution_count": 22,
     "metadata": {},
     "output_type": "execute_result"
    }
   ],
   "source": [
    "net(X)"
   ]
  },
  {
   "cell_type": "code",
   "execution_count": 23,
   "id": "743f70ae-5584-4002-971a-29fa03678a38",
   "metadata": {},
   "outputs": [
    {
     "data": {
      "text/plain": [
       "<tf.Variable 'dense_11/kernel:0' shape=(4, 4) dtype=float32, numpy=\n",
       "array([[-0.0072488 , -0.0149648 ,  0.00616377,  0.00365585],\n",
       "       [ 0.00654745,  0.00921178, -0.01984715,  0.00516886],\n",
       "       [ 0.00296929, -0.00865509,  0.00471181,  0.00853929],\n",
       "       [ 0.01208029, -0.01816077,  0.00402742,  0.01782557]],\n",
       "      dtype=float32)>"
      ]
     },
     "execution_count": 23,
     "metadata": {},
     "output_type": "execute_result"
    }
   ],
   "source": [
    "net.weights[0]"
   ]
  },
  {
   "cell_type": "code",
   "execution_count": 24,
   "id": "b5cd12de-ea5d-432b-a967-9bd1d18582e5",
   "metadata": {},
   "outputs": [
    {
     "data": {
      "text/plain": [
       "<tf.Variable 'dense_11/bias:0' shape=(4,) dtype=float32, numpy=array([0., 0., 0., 0.], dtype=float32)>"
      ]
     },
     "execution_count": 24,
     "metadata": {},
     "output_type": "execute_result"
    }
   ],
   "source": [
    "net.weights[1]"
   ]
  },
  {
   "cell_type": "code",
   "execution_count": 25,
   "id": "2a91c46a-3de1-4ac2-96db-0e29bcbbe68b",
   "metadata": {},
   "outputs": [
    {
     "data": {
      "text/plain": [
       "(<tf.Variable 'dense_13/kernel:0' shape=(4, 4) dtype=float32, numpy=\n",
       " array([[1., 1., 1., 1.],\n",
       "        [1., 1., 1., 1.],\n",
       "        [1., 1., 1., 1.],\n",
       "        [1., 1., 1., 1.]], dtype=float32)>,\n",
       " <tf.Variable 'dense_13/bias:0' shape=(4,) dtype=float32, numpy=array([0., 0., 0., 0.], dtype=float32)>)"
      ]
     },
     "execution_count": 25,
     "metadata": {},
     "output_type": "execute_result"
    }
   ],
   "source": [
    "net = tf.keras.models.Sequential([\n",
    "    tf.keras.layers.Flatten(),\n",
    "    tf.keras.layers.Dense(\n",
    "        4, activation=tf.nn.relu,\n",
    "        kernel_initializer=tf.keras.initializers.Constant(1),\n",
    "        bias_initializer=tf.zeros_initializer()),\n",
    "    tf.keras.layers.Dense(1),\n",
    "])\n",
    "\n",
    "net(X)\n",
    "net.weights[0], net.weights[1]"
   ]
  },
  {
   "cell_type": "code",
   "execution_count": 26,
   "id": "426d6917-83cc-492b-8f03-16a7e6056f35",
   "metadata": {},
   "outputs": [
    {
     "name": "stdout",
     "output_type": "stream",
     "text": [
      "<tf.Variable 'dense_15/kernel:0' shape=(4, 4) dtype=float32, numpy=\n",
      "array([[ 0.11521745,  0.7147353 ,  0.06997406,  0.12121969],\n",
      "       [ 0.7620409 ,  0.3297978 , -0.34653783,  0.21742517],\n",
      "       [ 0.05747563, -0.15420163, -0.47560447,  0.56439906],\n",
      "       [ 0.3862701 , -0.13622272,  0.29210275, -0.3564487 ]],\n",
      "      dtype=float32)>\n",
      "<tf.Variable 'dense_16/kernel:0' shape=(4, 1) dtype=float32, numpy=\n",
      "array([[1.],\n",
      "       [1.],\n",
      "       [1.],\n",
      "       [1.]], dtype=float32)>\n"
     ]
    }
   ],
   "source": [
    "net = tf.keras.models.Sequential([\n",
    "    tf.keras.layers.Flatten(),\n",
    "    tf.keras.layers.Dense(\n",
    "        4,\n",
    "        activation=tf.nn.relu,\n",
    "        kernel_initializer=tf.keras.initializers.GlorotUniform()),\n",
    "    tf.keras.layers.Dense(\n",
    "        1, kernel_initializer=tf.keras.initializers.Constant(1)),\n",
    "])\n",
    "\n",
    "net(X)\n",
    "print(net.layers[1].weights[0])\n",
    "print(net.layers[2].weights[0])"
   ]
  },
  {
   "cell_type": "code",
   "execution_count": 3,
   "id": "7533be92-da6d-4343-b90a-e230ed62fc09",
   "metadata": {},
   "outputs": [
    {
     "name": "stdout",
     "output_type": "stream",
     "text": [
      "<tf.Variable 'dense_4/kernel:0' shape=(4, 4) dtype=float32, numpy=\n",
      "array([[-0.       , -0.       , -7.5169373,  8.119707 ],\n",
      "       [-0.       ,  6.338682 , -7.4084473, -0.       ],\n",
      "       [-0.       , -9.099838 , -0.       ,  0.       ],\n",
      "       [-7.2869635,  6.2266045,  9.591053 , -6.185658 ]], dtype=float32)>\n"
     ]
    }
   ],
   "source": [
    "class MyInit(tf.keras.initializers.Initializer):\n",
    "    def __call__(self, shape, dtype=None):\n",
    "        data=tf.random.uniform(shape, -10, 10, dtype=dtype)\n",
    "        factor=(tf.abs(data) >= 5)\n",
    "        factor=tf.cast(factor, tf.float32)\n",
    "        return data * factor\n",
    "\n",
    "net = tf.keras.models.Sequential([\n",
    "    tf.keras.layers.Flatten(),\n",
    "    tf.keras.layers.Dense(\n",
    "        4,\n",
    "        activation=tf.nn.relu,\n",
    "        kernel_initializer=MyInit()),\n",
    "    tf.keras.layers.Dense(1),\n",
    "])\n",
    "\n",
    "net(X)\n",
    "print(net.layers[1].weights[0])"
   ]
  },
  {
   "cell_type": "markdown",
   "id": "adf9fa03-babc-4568-8163-17bd0c180b16",
   "metadata": {},
   "source": [
    "## 2.3 参数绑定"
   ]
  },
  {
   "cell_type": "markdown",
   "id": "6a9c6588-67ab-447a-996b-3a4ae69385eb",
   "metadata": {},
   "source": [
    "有时我们希望在多个层间共享参数： 我们可以定义一个稠密层，然后使用它的参数来设置另一个层的参数。"
   ]
  },
  {
   "cell_type": "code",
   "execution_count": 2,
   "id": "0f82ecef-0d04-4590-b3ab-d1d10362deb8",
   "metadata": {},
   "outputs": [
    {
     "name": "stdout",
     "output_type": "stream",
     "text": [
      "True\n"
     ]
    }
   ],
   "source": [
    "# tf.keras的表现有点不同。它会自动删除重复层\n",
    "shared = tf.keras.layers.Dense(4, activation=tf.nn.relu)\n",
    "net = tf.keras.models.Sequential([\n",
    "    tf.keras.layers.Flatten(),\n",
    "    shared,\n",
    "    shared,\n",
    "    tf.keras.layers.Dense(1),\n",
    "])\n",
    "\n",
    "net(X)\n",
    "# 检查参数是否不同\n",
    "print(len(net.layers) == 3)"
   ]
  },
  {
   "cell_type": "markdown",
   "id": "f3c0df3c-30f2-4a27-b1fb-f8ef6eda18bc",
   "metadata": {},
   "source": [
    "# 3. 延后初始化"
   ]
  },
  {
   "cell_type": "code",
   "execution_count": 4,
   "id": "a4ae3a8d-ca51-49ca-9c49-402e20673657",
   "metadata": {},
   "outputs": [],
   "source": [
    "import tensorflow as tf\n",
    "\n",
    "net = tf.keras.models.Sequential([\n",
    "    tf.keras.layers.Dense(256, activation=tf.nn.relu),\n",
    "    tf.keras.layers.Dense(10),\n",
    "])"
   ]
  },
  {
   "cell_type": "code",
   "execution_count": 5,
   "id": "d06c5957-b112-456e-9dd0-9040a869d44d",
   "metadata": {},
   "outputs": [
    {
     "data": {
      "text/plain": [
       "[[], []]"
      ]
     },
     "execution_count": 5,
     "metadata": {},
     "output_type": "execute_result"
    }
   ],
   "source": [
    "[net.layers[i].get_weights() for i in range(len(net.layers))]"
   ]
  },
  {
   "cell_type": "markdown",
   "id": "b36ffbe5-7eb7-4bff-ae83-899576c07482",
   "metadata": {},
   "source": [
    "# 4. 自定义层"
   ]
  },
  {
   "cell_type": "code",
   "execution_count": 6,
   "id": "2b7a161b-b248-422e-b456-7ba9a691d91c",
   "metadata": {},
   "outputs": [],
   "source": [
    "import tensorflow as tf"
   ]
  },
  {
   "cell_type": "code",
   "execution_count": 7,
   "id": "378d62b1-0eb1-4bf5-98b4-a9b1f0edae6e",
   "metadata": {},
   "outputs": [],
   "source": [
    "class CenterdLayer(tf.keras.Model):\n",
    "    def __init__(self):\n",
    "        super().__init__()\n",
    "    def call(self,inputs):\n",
    "        return inputs-tf.reduce_mean(inputs)"
   ]
  },
  {
   "cell_type": "code",
   "execution_count": 9,
   "id": "3a1ca129-0cc6-4669-b421-34463ea2e363",
   "metadata": {},
   "outputs": [
    {
     "data": {
      "text/plain": [
       "<tf.Tensor: shape=(5,), dtype=int32, numpy=array([-2, -1,  0,  1,  2], dtype=int32)>"
      ]
     },
     "execution_count": 9,
     "metadata": {},
     "output_type": "execute_result"
    }
   ],
   "source": [
    "layer = CenterdLayer()\n",
    "layer(tf.constant([1,2,3,4,5]))"
   ]
  },
  {
   "cell_type": "code",
   "execution_count": 11,
   "id": "91cc4e52-3885-4ca1-a828-766906b88ff4",
   "metadata": {},
   "outputs": [],
   "source": [
    "net = tf.keras.Sequential([tf.keras.layers.Dense(128), CenterdLayer()])"
   ]
  },
  {
   "cell_type": "code",
   "execution_count": 12,
   "id": "1c470060-f5fc-4b5e-837e-d27e62f2cd34",
   "metadata": {},
   "outputs": [
    {
     "data": {
      "text/plain": [
       "<tf.Tensor: shape=(), dtype=float32, numpy=0.0>"
      ]
     },
     "execution_count": 12,
     "metadata": {},
     "output_type": "execute_result"
    }
   ],
   "source": [
    "Y = net(tf.random.uniform((4, 8)))\n",
    "tf.reduce_mean(Y)"
   ]
  },
  {
   "cell_type": "code",
   "execution_count": 13,
   "id": "ea9fb4ca-023b-4e9b-a2b8-7ca297f17d12",
   "metadata": {},
   "outputs": [],
   "source": [
    "class MyDense(tf.keras.Model):\n",
    "    def __init__(self,units):\n",
    "        super().__init__()\n",
    "        self.units = units\n",
    "        \n",
    "    def build(self,X_shape):\n",
    "        self.weight = self.add_weight(name='weight',shape=[X_shape[-1],self.units],\n",
    "                                      initializer=tf.random_normal_initializer())\n",
    "        self.bias = self.add_weight(name='bias',shape=[self.units],\n",
    "                                    initializer=tf.zeros_initializer())\n",
    "    \n",
    "    def call(self,X):\n",
    "        linear = tf.matmul(X,self.weight)+self.bias\n",
    "        return tf.nn.relu(linear)"
   ]
  },
  {
   "cell_type": "code",
   "execution_count": 14,
   "id": "80582810-c64c-4e10-bdde-52c1702dcb75",
   "metadata": {},
   "outputs": [
    {
     "data": {
      "text/plain": [
       "[array([[-0.08016359,  0.04054431,  0.04162988],\n",
       "        [-0.06544625,  0.0113687 ,  0.02372276],\n",
       "        [ 0.06601661, -0.09021402,  0.0078855 ],\n",
       "        [-0.05890216, -0.03741097,  0.07294768],\n",
       "        [-0.04298727,  0.05240272, -0.00429331]], dtype=float32),\n",
       " array([0., 0., 0.], dtype=float32)]"
      ]
     },
     "execution_count": 14,
     "metadata": {},
     "output_type": "execute_result"
    }
   ],
   "source": [
    "dense = MyDense(3)\n",
    "dense(tf.random.uniform((2, 5)))\n",
    "dense.get_weights()"
   ]
  },
  {
   "cell_type": "markdown",
   "id": "3907df2a-1a18-45c8-ac16-fb6e0e04de5b",
   "metadata": {},
   "source": [
    "# 5. 读写文件"
   ]
  },
  {
   "cell_type": "markdown",
   "id": "f7e45dda-230a-4441-9f21-88d4812e2668",
   "metadata": {},
   "source": [
    "## 5.1 加载和保存张量"
   ]
  },
  {
   "cell_type": "code",
   "execution_count": 15,
   "id": "dcff12f3-3864-423d-8d4c-33dd7b83bcad",
   "metadata": {},
   "outputs": [],
   "source": [
    "import numpy as np\n",
    "import tensorflow as tf"
   ]
  },
  {
   "cell_type": "code",
   "execution_count": 16,
   "id": "178778ab-473e-4d15-ab66-4d400b42dde7",
   "metadata": {},
   "outputs": [],
   "source": [
    "x = tf.range(4)"
   ]
  },
  {
   "cell_type": "code",
   "execution_count": 23,
   "id": "f903ef35-9651-4083-886b-5fa27f59bfcc",
   "metadata": {},
   "outputs": [],
   "source": [
    "#保存单个张量\n",
    "np.save('x-file.npy', x)"
   ]
  },
  {
   "cell_type": "code",
   "execution_count": 24,
   "id": "941d6dc7-eefd-4ce0-9e3c-55e2bc5b7b29",
   "metadata": {},
   "outputs": [
    {
     "data": {
      "text/plain": [
       "array([0, 1, 2, 3], dtype=int32)"
      ]
     },
     "execution_count": 24,
     "metadata": {},
     "output_type": "execute_result"
    }
   ],
   "source": [
    "x2 = np.load('x-file.npy', allow_pickle=True)\n",
    "x2"
   ]
  },
  {
   "cell_type": "code",
   "execution_count": 25,
   "id": "629e07c2-b238-4bcf-b59e-a43b87d5c1be",
   "metadata": {},
   "outputs": [
    {
     "data": {
      "text/plain": [
       "(array([0., 1., 2., 3.]), array([0., 0., 0., 0.]))"
      ]
     },
     "execution_count": 25,
     "metadata": {},
     "output_type": "execute_result"
    }
   ],
   "source": [
    "#保存张量列表\n",
    "y = tf.zeros(4)\n",
    "np.save('xy-files.npy', [x, y])\n",
    "x2, y2 = np.load('xy-files.npy', allow_pickle=True)\n",
    "(x2, y2)"
   ]
  },
  {
   "cell_type": "code",
   "execution_count": 26,
   "id": "be1ada6d-85fd-49dd-b6a4-8a51af7a6ebe",
   "metadata": {},
   "outputs": [
    {
     "data": {
      "text/plain": [
       "array({'x': <tf.Tensor: shape=(4,), dtype=int32, numpy=array([0, 1, 2, 3], dtype=int32)>, 'y': <tf.Tensor: shape=(4,), dtype=float32, numpy=array([0., 0., 0., 0.], dtype=float32)>},\n",
       "      dtype=object)"
      ]
     },
     "execution_count": 26,
     "metadata": {},
     "output_type": "execute_result"
    }
   ],
   "source": [
    "#保存字典\n",
    "mydict = {'x': x, 'y': y}\n",
    "np.save('mydict.npy', mydict)\n",
    "mydict2 = np.load('mydict.npy', allow_pickle=True)\n",
    "mydict2"
   ]
  },
  {
   "cell_type": "markdown",
   "id": "d76587d6-2688-41db-b33a-d82d5ab93e9f",
   "metadata": {},
   "source": [
    "## 5.2 加载和保存模型参数"
   ]
  },
  {
   "cell_type": "code",
   "execution_count": 27,
   "id": "421f770c-dd86-4b79-b3e6-966c660fc625",
   "metadata": {},
   "outputs": [],
   "source": [
    "class MLP(tf.keras.Model):\n",
    "    def __init__(self):\n",
    "        super().__init__()\n",
    "        self.flatten = tf.keras.layers.Flatten()\n",
    "        self.hidden = tf.keras.layers.Dense(units=256,activation='relu')\n",
    "        self.out = tf.keras.layers.Dense(units=10)\n",
    "    def call(self,inputs):\n",
    "        x = self.flatten(inputs)\n",
    "        x = self.hidden(x)\n",
    "        return self.out(x)"
   ]
  },
  {
   "cell_type": "code",
   "execution_count": 28,
   "id": "95a281cc-d35d-46d7-a3ea-d70b8dfa3e96",
   "metadata": {},
   "outputs": [],
   "source": [
    "net = MLP()\n",
    "X = tf.random.uniform((2,20))\n",
    "Y = net(X)"
   ]
  },
  {
   "cell_type": "code",
   "execution_count": 29,
   "id": "d9c6b49d-46d0-480a-93ee-9ee0d4e45f41",
   "metadata": {},
   "outputs": [
    {
     "data": {
      "text/plain": [
       "<tf.Tensor: shape=(2, 10), dtype=float32, numpy=\n",
       "array([[-0.12652433, -0.12589364,  0.2272445 ,  0.23120558, -0.15709354,\n",
       "         0.54463804,  0.06234664, -0.12878226,  0.11383081,  0.20325705],\n",
       "       [-0.04879332, -0.09252413,  0.08910849,  0.18748908, -0.15910994,\n",
       "         0.2418121 , -0.01309797, -0.11234334,  0.16654095,  0.13663894]],\n",
       "      dtype=float32)>"
      ]
     },
     "execution_count": 29,
     "metadata": {},
     "output_type": "execute_result"
    }
   ],
   "source": [
    "Y"
   ]
  },
  {
   "cell_type": "code",
   "execution_count": 30,
   "id": "a34477a1-4934-4dd9-910b-c489b6e768dc",
   "metadata": {},
   "outputs": [],
   "source": [
    "net.save_weights('mlp.params')"
   ]
  },
  {
   "cell_type": "code",
   "execution_count": 31,
   "id": "9bb3c76b-4e7d-4193-87d9-154f2bb75c8b",
   "metadata": {},
   "outputs": [
    {
     "data": {
      "text/plain": [
       "<tensorflow.python.training.tracking.util.CheckpointLoadStatus at 0x7f732c9acbe0>"
      ]
     },
     "execution_count": 31,
     "metadata": {},
     "output_type": "execute_result"
    }
   ],
   "source": [
    "clone = MLP()\n",
    "clone.load_weights('mlp.params')"
   ]
  },
  {
   "cell_type": "code",
   "execution_count": 32,
   "id": "549ea3d8-4756-4907-8c0f-93a8407980fe",
   "metadata": {},
   "outputs": [
    {
     "data": {
      "text/plain": [
       "<tf.Tensor: shape=(2, 10), dtype=bool, numpy=\n",
       "array([[ True,  True,  True,  True,  True,  True,  True,  True,  True,\n",
       "         True],\n",
       "       [ True,  True,  True,  True,  True,  True,  True,  True,  True,\n",
       "         True]])>"
      ]
     },
     "execution_count": 32,
     "metadata": {},
     "output_type": "execute_result"
    }
   ],
   "source": [
    "Y_clone = clone(X)\n",
    "Y_clone == Y"
   ]
  },
  {
   "cell_type": "markdown",
   "id": "af61f099-971f-451b-94c7-6fb7c895ffb0",
   "metadata": {},
   "source": [
    "# 6. GPU"
   ]
  },
  {
   "cell_type": "markdown",
   "id": "28068812-a32f-4ad7-9289-19a0da6d9ce8",
   "metadata": {},
   "source": [
    "使用nvidia-smi命令来查看显卡信息"
   ]
  },
  {
   "cell_type": "code",
   "execution_count": 33,
   "id": "c3252aa4-8715-4518-84f3-20ec11a097e5",
   "metadata": {},
   "outputs": [
    {
     "name": "stdout",
     "output_type": "stream",
     "text": [
      "Fri Jan  7 14:22:00 2022       \n",
      "+-----------------------------------------------------------------------------+\n",
      "| NVIDIA-SMI 495.29.05    Driver Version: 495.29.05    CUDA Version: 11.5     |\n",
      "|-------------------------------+----------------------+----------------------+\n",
      "| GPU  Name        Persistence-M| Bus-Id        Disp.A | Volatile Uncorr. ECC |\n",
      "| Fan  Temp  Perf  Pwr:Usage/Cap|         Memory-Usage | GPU-Util  Compute M. |\n",
      "|                               |                      |               MIG M. |\n",
      "|===============================+======================+======================|\n",
      "|   0  NVIDIA GeForce ...  On   | 00000000:2D:00.0  On |                  N/A |\n",
      "|  0%   43C    P8    13W / 240W |   6765MiB /  7959MiB |      1%      Default |\n",
      "|                               |                      |                  N/A |\n",
      "+-------------------------------+----------------------+----------------------+\n",
      "                                                                               \n",
      "+-----------------------------------------------------------------------------+\n",
      "| Processes:                                                                  |\n",
      "|  GPU   GI   CI        PID   Type   Process name                  GPU Memory |\n",
      "|        ID   ID                                                   Usage      |\n",
      "|=============================================================================|\n",
      "|    0   N/A  N/A      1298      G   /usr/lib/xorg/Xorg                142MiB |\n",
      "|    0   N/A  N/A      1566      G   /usr/bin/gnome-shell               49MiB |\n",
      "|    0   N/A  N/A      2744      G   ...AAAAAAAAA= --shared-files       95MiB |\n",
      "|    0   N/A  N/A      3536      C   ...conda3/envs/tf/bin/python     6473MiB |\n",
      "+-----------------------------------------------------------------------------+\n"
     ]
    }
   ],
   "source": [
    "!nvidia-smi"
   ]
  },
  {
   "cell_type": "markdown",
   "id": "4b8c746e-6dc2-4479-9c63-9792515aaa28",
   "metadata": {},
   "source": [
    "我们可以指定用于存储和计算的设备。"
   ]
  },
  {
   "cell_type": "code",
   "execution_count": 34,
   "id": "b2f722f5-1056-4108-92cb-efd4bb1dbf3b",
   "metadata": {},
   "outputs": [
    {
     "data": {
      "text/plain": [
       "(<tensorflow.python.eager.context._EagerDeviceContext at 0x7f732c9ae040>,\n",
       " <tensorflow.python.eager.context._EagerDeviceContext at 0x7f732c9ae0c0>,\n",
       " <tensorflow.python.eager.context._EagerDeviceContext at 0x7f732c9aea80>)"
      ]
     },
     "execution_count": 34,
     "metadata": {},
     "output_type": "execute_result"
    }
   ],
   "source": [
    "import tensorflow as tf\n",
    "\n",
    "tf.device('/CPU:0'), tf.device('/GPU:0'), tf.device('/GPU:1')"
   ]
  },
  {
   "cell_type": "markdown",
   "id": "5ea6eef4-a634-4304-b198-45590f4a024a",
   "metadata": {},
   "source": [
    "查询可用的GPU数量"
   ]
  },
  {
   "cell_type": "code",
   "execution_count": 35,
   "id": "48db1008-5990-4183-98bf-78755f1ddc88",
   "metadata": {},
   "outputs": [
    {
     "data": {
      "text/plain": [
       "1"
      ]
     },
     "execution_count": 35,
     "metadata": {},
     "output_type": "execute_result"
    }
   ],
   "source": [
    "len(tf.config.experimental.list_physical_devices('GPU'))"
   ]
  },
  {
   "cell_type": "code",
   "execution_count": 36,
   "id": "b4a05c05-e607-4961-8287-b2250121f33d",
   "metadata": {},
   "outputs": [],
   "source": [
    "def try_gpu(i=0):  #@save\n",
    "    \"\"\"如果存在，则返回gpu(i)，否则返回cpu()\"\"\"\n",
    "    if len(tf.config.experimental.list_physical_devices('GPU')) >= i + 1:\n",
    "        return tf.device(f'/GPU:{i}')\n",
    "    return tf.device('/CPU:0')\n",
    "\n",
    "def try_all_gpus():  #@save\n",
    "    \"\"\"返回所有可用的GPU，如果没有GPU，则返回[cpu(),]\"\"\"\n",
    "    num_gpus = len(tf.config.experimental.list_physical_devices('GPU'))\n",
    "    devices = [tf.device(f'/GPU:{i}') for i in range(num_gpus)]\n",
    "    return devices if devices else [tf.device('/CPU:0')]"
   ]
  },
  {
   "cell_type": "markdown",
   "id": "ea41e19b-1f7d-4c83-9a81-36f049c50115",
   "metadata": {},
   "source": [
    "我们可以查询张量所在的设备。默认情况下，张量是在CPU上创建的。"
   ]
  },
  {
   "cell_type": "code",
   "execution_count": 37,
   "id": "6b2de229-6418-490d-8b61-644e4fb8fbfd",
   "metadata": {},
   "outputs": [
    {
     "data": {
      "text/plain": [
       "'/job:localhost/replica:0/task:0/device:GPU:0'"
      ]
     },
     "execution_count": 37,
     "metadata": {},
     "output_type": "execute_result"
    }
   ],
   "source": [
    "x = tf.constant([1, 2, 3])\n",
    "x.device"
   ]
  },
  {
   "cell_type": "markdown",
   "id": "090ed05f-3315-4672-8a0a-bc580842b13b",
   "metadata": {},
   "source": [
    "需要注意的是，无论何时我们要对多个项进行操作， 它们都必须在同一个设备上。 例如，如果我们对两个张量求和， 我们需要确保两个张量都位于同一个设备上， 否则框架将不知道在哪里存储结果，甚至不知道在哪里执行计算。\n",
    "\n"
   ]
  }
 ],
 "metadata": {
  "kernelspec": {
   "display_name": "Python 3 (ipykernel)",
   "language": "python",
   "name": "python3"
  },
  "language_info": {
   "codemirror_mode": {
    "name": "ipython",
    "version": 3
   },
   "file_extension": ".py",
   "mimetype": "text/x-python",
   "name": "python",
   "nbconvert_exporter": "python",
   "pygments_lexer": "ipython3",
   "version": "3.9.7"
  }
 },
 "nbformat": 4,
 "nbformat_minor": 5
}
