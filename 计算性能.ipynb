{
 "cells": [
  {
   "cell_type": "markdown",
   "id": "e20c5818-cf73-47c3-8b37-7b123b71be25",
   "metadata": {},
   "source": [
    "符号式编程可以对计算过程进行大量的优化，从而加速计算。"
   ]
  },
  {
   "cell_type": "markdown",
   "id": "ded31e64-7714-4f14-9a6e-22d98fd3fa90",
   "metadata": {},
   "source": [
    "TF2.0和Keras增加了命令式编程，但符号式编程和计算图仍可通过装饰器`tf.function`进行访问。"
   ]
  },
  {
   "cell_type": "code",
   "execution_count": 1,
   "id": "0a84a42d-c45d-4d2b-98b4-46ea6ecc674c",
   "metadata": {},
   "outputs": [],
   "source": [
    "import tensorflow as tf\n",
    "from tensorflow.keras.layers import Dense\n",
    "import d2l"
   ]
  },
  {
   "cell_type": "code",
   "execution_count": 2,
   "id": "ad976878-6cf9-4c48-97d1-dd862cf0d4f9",
   "metadata": {},
   "outputs": [],
   "source": [
    "def get_net():\n",
    "    net = tf.keras.Sequential()\n",
    "    net.add(Dense(256, input_shape = (512,), activation = \"relu\"))\n",
    "    net.add(Dense(128, activation = \"relu\"))\n",
    "    net.add(Dense(2, activation = \"linear\"))\n",
    "    return net"
   ]
  },
  {
   "cell_type": "code",
   "execution_count": 4,
   "id": "2f994f7e-6945-4c43-bbb5-753366ee0ffe",
   "metadata": {},
   "outputs": [],
   "source": [
    "x = tf.random.normal([1,512])"
   ]
  },
  {
   "cell_type": "code",
   "execution_count": 6,
   "id": "3d58284e-7621-4cd1-af0e-0fc837af03e2",
   "metadata": {},
   "outputs": [
    {
     "data": {
      "text/plain": [
       "<tf.Tensor: shape=(1, 2), dtype=float32, numpy=array([[-0.8696447 ,  0.01650664]], dtype=float32)>"
      ]
     },
     "execution_count": 6,
     "metadata": {},
     "output_type": "execute_result"
    }
   ],
   "source": [
    "net = get_net()\n",
    "net(x)"
   ]
  },
  {
   "cell_type": "code",
   "execution_count": 7,
   "id": "73e76c0b-6b47-4bba-b0d3-905a8d5c6985",
   "metadata": {},
   "outputs": [
    {
     "data": {
      "text/plain": [
       "<tf.Tensor: shape=(1, 2), dtype=float32, numpy=array([[-0.8696447 ,  0.01650664]], dtype=float32)>"
      ]
     },
     "execution_count": 7,
     "metadata": {},
     "output_type": "execute_result"
    }
   ],
   "source": [
    "net = tf.function(net)\n",
    "net(x)"
   ]
  },
  {
   "cell_type": "markdown",
   "id": "b6506d9b-e8b5-4bf8-b414-78c8e40909b7",
   "metadata": {},
   "source": [
    "通过将`jit_compile = True`标志添加到`tf.function()`的函数调用中可以显式地启用TensorFlow中的XLA（线性代数加速）功能。在某些情况下，XLA可以进一步优化JIT的编译代码。如果没有这种显式定义，图形模式将会被启用，但是XLA可以使某些大规模的线性代数的运算速度更快（与我们在深度学习应用程序中看到的操作类似），特别是在GPU环境中。"
   ]
  },
  {
   "cell_type": "code",
   "execution_count": 8,
   "id": "95f638af-0a3c-44ed-b870-c453809b0b88",
   "metadata": {},
   "outputs": [],
   "source": [
    "class Benchmark:\n",
    "    def __init__(self,description='Done'):\n",
    "        self.description = description\n",
    "    def __enter__(self):\n",
    "        self.timer = d2l.Timer()\n",
    "        return self\n",
    "    def __exit__(self,*args):\n",
    "        print(f'{self.description}:{self.timer.stop():.4f}sec')"
   ]
  },
  {
   "cell_type": "code",
   "execution_count": 12,
   "id": "6a276a39-418c-4f89-85d0-71c8bab7a55f",
   "metadata": {},
   "outputs": [
    {
     "name": "stdout",
     "output_type": "stream",
     "text": [
      "Eager模式:0.5584sec\n",
      "Graph模式:0.2118sec\n",
      "XLA模式:0.1898sec\n"
     ]
    }
   ],
   "source": [
    "net = get_net()\n",
    "with Benchmark('Eager模式'):\n",
    "    for i in range(1000): net(x)\n",
    "\n",
    "net = tf.function(net)\n",
    "with Benchmark('Graph模式'):\n",
    "    for i in range(1000): net(x)\n",
    "    \n",
    "net = tf.function(net,jit_compile=True)\n",
    "with Benchmark('XLA模式'):\n",
    "    for i in range(1000): net(x)"
   ]
  },
  {
   "cell_type": "code",
   "execution_count": 13,
   "id": "f4d25de9-1a24-4f66-82be-267a3bd4c278",
   "metadata": {},
   "outputs": [
    {
     "name": "stdout",
     "output_type": "stream",
     "text": [
      "INFO:tensorflow:Assets written to: my_mlp/assets\n",
      "总用量 68K\n",
      "drwxr-xr-x 2 agave agave 4.0K 1月  13 12:46 assets\n",
      "-rw-rw-r-- 1 agave agave  59K 1月  13 12:46 saved_model.pb\n",
      "drwxr-xr-x 2 agave agave 4.0K 1月  13 12:46 variables\n"
     ]
    },
    {
     "name": "stderr",
     "output_type": "stream",
     "text": [
      "2022-01-13 12:46:20.955258: W tensorflow/python/util/util.cc:368] Sets are not currently considered sequences, but this may change in the future, so consider avoiding using them.\n"
     ]
    }
   ],
   "source": [
    "net = get_net()\n",
    "tf.saved_model.save(net, 'my_mlp')\n",
    "!ls -lh my_mlp*"
   ]
  }
 ],
 "metadata": {
  "kernelspec": {
   "display_name": "Python 3 (ipykernel)",
   "language": "python",
   "name": "python3"
  },
  "language_info": {
   "codemirror_mode": {
    "name": "ipython",
    "version": 3
   },
   "file_extension": ".py",
   "mimetype": "text/x-python",
   "name": "python",
   "nbconvert_exporter": "python",
   "pygments_lexer": "ipython3",
   "version": "3.9.7"
  }
 },
 "nbformat": 4,
 "nbformat_minor": 5
}
