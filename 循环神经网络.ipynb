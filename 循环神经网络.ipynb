{
 "cells": [
  {
   "cell_type": "markdown",
   "id": "09129677-9a3b-4202-8bf8-74931a382de7",
   "metadata": {},
   "source": [
    "# 1. 序列模型"
   ]
  },
  {
   "cell_type": "markdown",
   "id": "10021588-9b8a-47c7-bbdd-2b7e87395ff8",
   "metadata": {},
   "source": [
    "## 1.1 统计工具"
   ]
  },
  {
   "cell_type": "markdown",
   "id": "5fed1f7a-6852-4843-a5b1-217d28fd0649",
   "metadata": {},
   "source": [
    "### 1.1.1 自回归模型"
   ]
  },
  {
   "cell_type": "markdown",
   "id": "a3d6e57e-8fc4-4a2d-b743-515ad8c35b9a",
   "metadata": {},
   "source": [
    "- 自回归模型\n",
    "- 隐变量自回归模型"
   ]
  },
  {
   "cell_type": "markdown",
   "id": "dfdad533-21ec-4769-a9f4-e47852b6dd75",
   "metadata": {},
   "source": []
  }
 ],
 "metadata": {
  "kernelspec": {
   "display_name": "Python 3 (ipykernel)",
   "language": "python",
   "name": "python3"
  },
  "language_info": {
   "codemirror_mode": {
    "name": "ipython",
    "version": 3
   },
   "file_extension": ".py",
   "mimetype": "text/x-python",
   "name": "python",
   "nbconvert_exporter": "python",
   "pygments_lexer": "ipython3",
   "version": "3.9.7"
  }
 },
 "nbformat": 4,
 "nbformat_minor": 5
}
